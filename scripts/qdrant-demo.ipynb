{
 "cells": [
  {
   "cell_type": "code",
   "execution_count": 26,
   "id": "d9d3e36d-e4c8-4730-875c-ffb46c1ed4e6",
   "metadata": {},
   "outputs": [
    {
     "data": {
      "application/vnd.jupyter.widget-view+json": {
       "model_id": "f98359903484475b9edb8f2ba206cced",
       "version_major": 2,
       "version_minor": 0
      },
      "text/plain": [
       "Resolving data files:   0%|          | 0/44 [00:00<?, ?it/s]"
      ]
     },
     "metadata": {},
     "output_type": "display_data"
    }
   ],
   "source": [
    "from datasets import load_dataset\n",
    "\n",
    "dataset = load_dataset(\"Qdrant/arxiv-titles-instructorxl-embeddings\", split=\"train[1000:5000]\")"
   ]
  },
  {
   "cell_type": "code",
   "execution_count": 42,
   "id": "5dda3dc0-c94c-402e-b81f-901abee1c73f",
   "metadata": {},
   "outputs": [],
   "source": [
    "\n",
    "client = QdrantClient(url=\"http://qdrant.mavcode.io:6333\", api_key=\"cf0b9f3fdca0d3edf6b21ab38a6583528997882e69077a1e\")"
   ]
  },
  {
   "cell_type": "code",
   "execution_count": 38,
   "id": "ef8af9f5-18fa-45c6-9c89-f2a566ed720b",
   "metadata": {},
   "outputs": [],
   "source": [
    "from qdrant_client import QdrantClient, models\n",
    "\n",
    "client = QdrantClient(url=\"https://qdrant-demo.mavcode.io\", api_key=\"596720cb6afdc35d21be7f6b90ed1357d81c354d3a0896ad\")"
   ]
  },
  {
   "cell_type": "code",
   "execution_count": null,
   "id": "c428e912-d314-4562-bac1-b7ff45059c25",
   "metadata": {},
   "outputs": [],
   "source": []
  },
  {
   "cell_type": "code",
   "execution_count": 44,
   "id": "95d6c959-ce13-44fd-9a57-00e4963ac8a6",
   "metadata": {},
   "outputs": [
    {
     "data": {
      "text/plain": [
       "CollectionsResponse(collections=[CollectionDescription(name='foo3'), CollectionDescription(name='arxiv-titles-instructorxl-embeddings')])"
      ]
     },
     "execution_count": 44,
     "metadata": {},
     "output_type": "execute_result"
    }
   ],
   "source": [
    "client.get_collections()"
   ]
  },
  {
   "cell_type": "code",
   "execution_count": 19,
   "id": "c9dc9b35-03ca-4a2a-ae4e-62ff3e4bf3b7",
   "metadata": {},
   "outputs": [
    {
     "data": {
      "text/plain": [
       "True"
      ]
     },
     "execution_count": 19,
     "metadata": {},
     "output_type": "execute_result"
    }
   ],
   "source": [
    "client.create_collection(\n",
    "    collection_name=\"arxiv-titles-instructorxl-embeddings\",\n",
    "    vectors_config=models.VectorParams(\n",
    "        size=768,\n",
    "        distance=models.Distance.COSINE,\n",
    "    ),\n",
    ")"
   ]
  },
  {
   "cell_type": "code",
   "execution_count": 29,
   "id": "8d08f1c8-8a74-48a6-b360-cda28f88ecc2",
   "metadata": {},
   "outputs": [],
   "source": [
    "client.update_collection(\n",
    "    collection_name=\"arxiv-titles-instructorxl-embeddings\",\n",
    "    optimizer_config = models.OptimizersConfigDiff(indexing_threshold=0),\n",
    ")\n",
    "\n",
    "from itertools import islice, batched\n",
    "\n",
    "batch_size = 100"
   ]
  },
  {
   "cell_type": "code",
   "execution_count": 30,
   "id": "a91a509d-4773-453c-8ea9-7bc30de0e70a",
   "metadata": {},
   "outputs": [
    {
     "data": {
      "text/plain": [
       "Dataset({\n",
       "    features: ['id', 'title', 'DOI', 'vector'],\n",
       "    num_rows: 4000\n",
       "})"
      ]
     },
     "execution_count": 30,
     "metadata": {},
     "output_type": "execute_result"
    }
   ],
   "source": [
    "dataset"
   ]
  },
  {
   "cell_type": "code",
   "execution_count": 31,
   "id": "d9e0c994-ae68-4526-a1d0-443d6f9364fb",
   "metadata": {},
   "outputs": [],
   "source": [
    "client.update_collection(\n",
    "    collection_name=\"arxiv-titles-instructorxl-embeddings\",\n",
    "    optimizer_config = models.OptimizersConfigDiff(indexing_threshold=0),\n",
    ")\n",
    "\n",
    "for batch in batched(dataset, batch_size):\n",
    "    ids = [point.pop(\"id\") for point in batch]\n",
    "    vectors = [point.pop(\"vector\") for point in batch]\n",
    "\n",
    "    client.upsert(\n",
    "        collection_name=\"arxiv-titles-instructorxl-embeddings\",\n",
    "        points=models.Batch(\n",
    "            ids=ids,\n",
    "            vectors=vectors,\n",
    "            payloads=batch,\n",
    "        ),\n",
    "    )"
   ]
  },
  {
   "cell_type": "code",
   "execution_count": null,
   "id": "79808dc9-972a-40f1-b23b-02fc79e916ba",
   "metadata": {},
   "outputs": [],
   "source": []
  }
 ],
 "metadata": {
  "kernelspec": {
   "display_name": "Python 3 (ipykernel)",
   "language": "python",
   "name": "python3"
  },
  "language_info": {
   "codemirror_mode": {
    "name": "ipython",
    "version": 3
   },
   "file_extension": ".py",
   "mimetype": "text/x-python",
   "name": "python",
   "nbconvert_exporter": "python",
   "pygments_lexer": "ipython3",
   "version": "3.12.7"
  }
 },
 "nbformat": 4,
 "nbformat_minor": 5
}
